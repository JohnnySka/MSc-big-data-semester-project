{
 "cells": [
  {
   "cell_type": "code",
   "execution_count": null,
   "id": "46b04089-c47e-46f2-8a29-8fb995466075",
   "metadata": {},
   "outputs": [],
   "source": [
    "import sys\n",
    "from pyspark.sql import SparkSession\n",
    "from pyspark.sql.types import *\n",
    "from google.api_core.retry import Retry\n",
    "\n",
    "from pyspark.sql.functions import col\n",
    "from pyspark.sql.types import DoubleType\n",
    "from pyspark.mllib.regression import LabeledPoint\n",
    "\n",
    "from pyspark.mllib.stat import Statistics\n",
    "from pyspark.mllib.linalg import Vectors\n"
   ]
  },
  {
   "cell_type": "code",
   "execution_count": null,
   "id": "f9201059-acdb-48b5-a01a-d4c120bdb062",
   "metadata": {},
   "outputs": [],
   "source": [
    "# Initialize Spark\n",
    "spark = SparkSession.builder.appName(\"Chi-Squared\").getOrCreate()\n",
    "\n",
    "# Get the JSON file path from arguments\n",
    "if len(sys.argv) != 2:\n",
    "    print(\"Usage: python_script.py <path-to-json>\")\n",
    "    sys.exit(1)\n",
    "\n",
    "json_file_path = sys.argv[1]  # Path to JSON file on GCS\n",
    "\n",
    "# Read the JSON file from GCS\n",
    "crime_df = spark.read.json(json_file_path)"
   ]
  },
  {
   "cell_type": "code",
   "execution_count": null,
   "id": "8a59cc93-9637-4919-af34-0fe5bc905346",
   "metadata": {},
   "outputs": [],
   "source": [
    "# Create a Contingency Table\n",
    "contingency_df = crime_df.groupBy(\"borough\", \"major_category\").count() \\\n",
    "                         .groupBy(\"borough\") \\\n",
    "                         .pivot(\"major_category\") \\\n",
    "                         .sum(\"count\") \\\n",
    "                         .fillna(0)\n",
    "\n",
    "# Convert all feature columns to DoubleType\n",
    "contingency_df = contingency_df.select(\n",
    "    [col(c).cast(DoubleType()).alias(c) if c != \"borough\" else col(c) for c in contingency_df.columns]\n",
    ")\n",
    "\n",
    "# Create a dictionary mapping boroughs to numeric values \n",
    "boroughs = contingency_df.select(\"borough\").distinct().rdd.flatMap(lambda x: x).collect() \n",
    "borough_mapping = {borough: idx for idx, borough in enumerate(boroughs)}\n",
    "\n",
    "# Convert Rows to LabeledPoint\n",
    "def row_to_labeled_point(row,borough_mapping):\n",
    "    \n",
    "    label = borough_mapping[row[\"borough\"]] #mine\n",
    "\n",
    "    features = [row[col] for col in row if col != \"borough\"]  # All other columns are features\n",
    "    \n",
    "    return (label,features)\n",
    "\n"
   ]
  },
  {
   "cell_type": "code",
   "execution_count": null,
   "id": "00ad305b-b283-47cc-91cb-7ad45732b5f6",
   "metadata": {},
   "outputs": [],
   "source": [
    "# Convert the contingency DataFrame to an RDD of LabeledPoint\n",
    "labeled_rdd = contingency_df.rdd.map(lambda row: row_to_labeled_point(row.asDict(),borough_mapping))"
   ]
  },
  {
   "cell_type": "code",
   "execution_count": null,
   "id": "bb601d33-c958-46f1-a74f-8e4eba7eae3d",
   "metadata": {},
   "outputs": [],
   "source": [
    "# Convert the data to RDD of LabeledPoint \n",
    "labeled_rdd2 = labeled_rdd.map(lambda x: LabeledPoint(x[0], Vectors.dense(x[1])))\n",
    "\n",
    "# Perform chi-squared test\n",
    "chi_sq_result = Statistics.chiSqTest(labeled_rdd2)\n",
    "\n",
    "# Print the results\n",
    "for i, result in enumerate(chi_sq_result):\n",
    "    print(f\"Feature {i + 1}:\")\n",
    "    print(f\"Chi-squared statistic: {result.statistic}\")\n",
    "    print(f\"p-value: {result.pValue}\")\n",
    "    print(f\"Degrees of freedom: {result.degreesOfFreedom}\")\n",
    "    print(f\"Method: {result.method}\\n\")\n"
   ]
  }
 ],
 "metadata": {
  "kernelspec": {
   "display_name": "Python 3 (ipykernel)",
   "language": "python",
   "name": "python3"
  },
  "language_info": {
   "codemirror_mode": {
    "name": "ipython",
    "version": 3
   },
   "file_extension": ".py",
   "mimetype": "text/x-python",
   "name": "python",
   "nbconvert_exporter": "python",
   "pygments_lexer": "ipython3",
   "version": "3.13.1"
  }
 },
 "nbformat": 4,
 "nbformat_minor": 5
}
