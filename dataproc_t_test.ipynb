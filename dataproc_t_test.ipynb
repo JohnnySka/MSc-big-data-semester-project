{
 "cells": [
  {
   "cell_type": "code",
   "execution_count": null,
   "id": "286f5413-7b62-4106-92b1-99a113159703",
   "metadata": {},
   "outputs": [],
   "source": [
    "import sys\n",
    "from pyspark.sql import SparkSession\n",
    "from pyspark.sql.functions import col, sum as _sum\n",
    "from scipy.stats import ttest_ind\n",
    "\n",
    "# Initialize Spark\n",
    "spark = SparkSession.builder.appName(\"TTestCrimeMeans\").getOrCreate()\n",
    "\n",
    "# Get the JSON file path from arguments\n",
    "if len(sys.argv) != 2:\n",
    "    print(\"Usage: python_script.py <path-to-json>\")\n",
    "    sys.exit(1)\n",
    "\n",
    "json_file_path = sys.argv[1]  # Path to JSON file on GCS\n",
    "\n",
    "# Read the JSON file from GCS\n",
    "crime_df = spark.read.json(json_file_path)\n",
    "\n",
    "# Calculate Total Crimes per Borough\n",
    "total_crimes = crime_df.groupBy(\"borough\").agg(_sum(\"value\").alias(\"total_crimes\"))\n",
    "\n",
    "# Identify the Top 2 Boroughs\n",
    "top_boroughs = total_crimes.orderBy(col(\"total_crimes\").desc()).limit(2).collect()\n",
    "top_borough_1 = top_boroughs[0][\"borough\"]\n",
    "top_borough_2 = top_boroughs[1][\"borough\"]\n",
    "\n",
    "# Extract Crime Values for the Top Boroughs\n",
    "borough_1_crimes = crime_df.filter(col(\"borough\") == top_borough_1).select(\"value\").rdd.flatMap(lambda x: x).collect()\n",
    "borough_2_crimes = crime_df.filter(col(\"borough\") == top_borough_2).select(\"value\").rdd.flatMap(lambda x: x).collect()\n",
    "\n",
    "# Perform the T-Test\n",
    "t_stat, p_value = ttest_ind(borough_1_crimes, borough_2_crimes, equal_var=False)\n",
    "\n",
    "# Print Results\n",
    "print(\"T-Test Results:\")\n",
    "print(f\"T-Statistic: {t_stat}\")\n",
    "print(f\"P-Value: {p_value}\")\n",
    "print(f\"Top Borough 1: {top_borough_1}\")\n",
    "print(f\"Top Borough 2: {top_borough_2}\")\n",
    "\n",
    "if p_value < 0.05:\n",
    "    print(\"The difference in mean total crimes between the two boroughs is statistically significant.\")\n",
    "else:\n",
    "    print(\"The difference in mean total crimes between the two boroughs is not statistically significant.\")\n"
   ]
  }
 ],
 "metadata": {
  "kernelspec": {
   "display_name": "Python 3 (ipykernel)",
   "language": "python",
   "name": "python3"
  },
  "language_info": {
   "codemirror_mode": {
    "name": "ipython",
    "version": 3
   },
   "file_extension": ".py",
   "mimetype": "text/x-python",
   "name": "python",
   "nbconvert_exporter": "python",
   "pygments_lexer": "ipython3",
   "version": "3.13.1"
  }
 },
 "nbformat": 4,
 "nbformat_minor": 5
}
